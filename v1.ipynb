{
 "cells": [
  {
   "cell_type": "code",
   "execution_count": 2020,
   "id": "c4f7ac41",
   "metadata": {},
   "outputs": [],
   "source": [
    "import pandas as pd\n",
    "import numpy as np\n",
    "import matplotlib.pyplot as plt\n",
    "import seaborn as sns"
   ]
  },
  {
   "cell_type": "code",
   "execution_count": 2021,
   "id": "6057c244",
   "metadata": {},
   "outputs": [
    {
     "name": "stdout",
     "output_type": "stream",
     "text": [
      "<class 'pandas.core.frame.DataFrame'>\n",
      "RangeIndex: 1773 entries, 0 to 1772\n",
      "Data columns (total 9 columns):\n",
      " #   Column        Non-Null Count  Dtype  \n",
      "---  ------        --------------  -----  \n",
      " 0   title         1772 non-null   object \n",
      " 1   price         1490 non-null   object \n",
      " 2   city_name     1772 non-null   object \n",
      " 3   salon         1620 non-null   float64\n",
      " 4   nb_rooms      1490 non-null   float64\n",
      " 5   nb_baths      1480 non-null   float64\n",
      " 6   surface_area  1742 non-null   float64\n",
      " 7   equipment     1402 non-null   object \n",
      " 8   link          1773 non-null   object \n",
      "dtypes: float64(4), object(5)\n",
      "memory usage: 124.8+ KB\n"
     ]
    },
    {
     "data": {
      "text/html": [
       "<div>\n",
       "<style scoped>\n",
       "    .dataframe tbody tr th:only-of-type {\n",
       "        vertical-align: middle;\n",
       "    }\n",
       "\n",
       "    .dataframe tbody tr th {\n",
       "        vertical-align: top;\n",
       "    }\n",
       "\n",
       "    .dataframe thead th {\n",
       "        text-align: right;\n",
       "    }\n",
       "</style>\n",
       "<table border=\"1\" class=\"dataframe\">\n",
       "  <thead>\n",
       "    <tr style=\"text-align: right;\">\n",
       "      <th></th>\n",
       "      <th>title</th>\n",
       "      <th>price</th>\n",
       "      <th>city_name</th>\n",
       "      <th>salon</th>\n",
       "      <th>nb_rooms</th>\n",
       "      <th>nb_baths</th>\n",
       "      <th>surface_area</th>\n",
       "      <th>equipment</th>\n",
       "      <th>link</th>\n",
       "    </tr>\n",
       "  </thead>\n",
       "  <tbody>\n",
       "    <tr>\n",
       "      <th>0</th>\n",
       "      <td>CMN-MA-1752 - Appartement à vendre à Palmier</td>\n",
       "      <td>2 000 000 DH</td>\n",
       "      <td>Casablanca</td>\n",
       "      <td>NaN</td>\n",
       "      <td>2.0</td>\n",
       "      <td>2.0</td>\n",
       "      <td>168.0</td>\n",
       "      <td>Ascenseur/Balcon/Parking/Terrasse</td>\n",
       "      <td>https://www.avito.ma/fr/palmier/appartements/C...</td>\n",
       "    </tr>\n",
       "    <tr>\n",
       "      <th>1</th>\n",
       "      <td>66370-Vente Appt à Casablanca Hay Hassani de 1...</td>\n",
       "      <td>1 195 000 DH</td>\n",
       "      <td>Casablanca</td>\n",
       "      <td>NaN</td>\n",
       "      <td>2.0</td>\n",
       "      <td>2.0</td>\n",
       "      <td>98.0</td>\n",
       "      <td>Ascenseur/Balcon/Chauffage/Climatisation/Cuisi...</td>\n",
       "      <td>https://www.avito.ma/fr/hay_hassani/appartemen...</td>\n",
       "    </tr>\n",
       "  </tbody>\n",
       "</table>\n",
       "</div>"
      ],
      "text/plain": [
       "                                               title         price  \\\n",
       "0       CMN-MA-1752 - Appartement à vendre à Palmier  2 000 000 DH   \n",
       "1  66370-Vente Appt à Casablanca Hay Hassani de 1...  1 195 000 DH   \n",
       "\n",
       "    city_name  salon  nb_rooms  nb_baths  surface_area  \\\n",
       "0  Casablanca    NaN       2.0       2.0         168.0   \n",
       "1  Casablanca    NaN       2.0       2.0          98.0   \n",
       "\n",
       "                                           equipment  \\\n",
       "0                  Ascenseur/Balcon/Parking/Terrasse   \n",
       "1  Ascenseur/Balcon/Chauffage/Climatisation/Cuisi...   \n",
       "\n",
       "                                                link  \n",
       "0  https://www.avito.ma/fr/palmier/appartements/C...  \n",
       "1  https://www.avito.ma/fr/hay_hassani/appartemen...  "
      ]
     },
     "execution_count": 2021,
     "metadata": {},
     "output_type": "execute_result"
    }
   ],
   "source": [
    "df = pd.read_csv('../data/appartements-data-db.csv')\n",
    "df.info()\n",
    "df.head(2)"
   ]
  },
  {
   "cell_type": "code",
   "execution_count": 2022,
   "id": "5b239162",
   "metadata": {},
   "outputs": [
    {
     "data": {
      "text/html": [
       "<div>\n",
       "<style scoped>\n",
       "    .dataframe tbody tr th:only-of-type {\n",
       "        vertical-align: middle;\n",
       "    }\n",
       "\n",
       "    .dataframe tbody tr th {\n",
       "        vertical-align: top;\n",
       "    }\n",
       "\n",
       "    .dataframe thead th {\n",
       "        text-align: right;\n",
       "    }\n",
       "</style>\n",
       "<table border=\"1\" class=\"dataframe\">\n",
       "  <thead>\n",
       "    <tr style=\"text-align: right;\">\n",
       "      <th></th>\n",
       "      <th>salon</th>\n",
       "      <th>nb_rooms</th>\n",
       "      <th>nb_baths</th>\n",
       "      <th>surface_area</th>\n",
       "    </tr>\n",
       "  </thead>\n",
       "  <tbody>\n",
       "    <tr>\n",
       "      <th>count</th>\n",
       "      <td>1620.000000</td>\n",
       "      <td>1490.000000</td>\n",
       "      <td>1480.000000</td>\n",
       "      <td>1742.000000</td>\n",
       "    </tr>\n",
       "    <tr>\n",
       "      <th>mean</th>\n",
       "      <td>1.267284</td>\n",
       "      <td>2.379195</td>\n",
       "      <td>2.307432</td>\n",
       "      <td>174.933410</td>\n",
       "    </tr>\n",
       "    <tr>\n",
       "      <th>std</th>\n",
       "      <td>0.557539</td>\n",
       "      <td>0.667159</td>\n",
       "      <td>7.629128</td>\n",
       "      <td>2969.500693</td>\n",
       "    </tr>\n",
       "    <tr>\n",
       "      <th>min</th>\n",
       "      <td>0.000000</td>\n",
       "      <td>1.000000</td>\n",
       "      <td>0.000000</td>\n",
       "      <td>1.000000</td>\n",
       "    </tr>\n",
       "    <tr>\n",
       "      <th>25%</th>\n",
       "      <td>1.000000</td>\n",
       "      <td>2.000000</td>\n",
       "      <td>1.000000</td>\n",
       "      <td>71.000000</td>\n",
       "    </tr>\n",
       "    <tr>\n",
       "      <th>50%</th>\n",
       "      <td>1.000000</td>\n",
       "      <td>2.000000</td>\n",
       "      <td>2.000000</td>\n",
       "      <td>89.000000</td>\n",
       "    </tr>\n",
       "    <tr>\n",
       "      <th>75%</th>\n",
       "      <td>1.000000</td>\n",
       "      <td>3.000000</td>\n",
       "      <td>2.000000</td>\n",
       "      <td>114.750000</td>\n",
       "    </tr>\n",
       "    <tr>\n",
       "      <th>max</th>\n",
       "      <td>8.000000</td>\n",
       "      <td>7.000000</td>\n",
       "      <td>134.000000</td>\n",
       "      <td>123456.000000</td>\n",
       "    </tr>\n",
       "  </tbody>\n",
       "</table>\n",
       "</div>"
      ],
      "text/plain": [
       "             salon     nb_rooms     nb_baths   surface_area\n",
       "count  1620.000000  1490.000000  1480.000000    1742.000000\n",
       "mean      1.267284     2.379195     2.307432     174.933410\n",
       "std       0.557539     0.667159     7.629128    2969.500693\n",
       "min       0.000000     1.000000     0.000000       1.000000\n",
       "25%       1.000000     2.000000     1.000000      71.000000\n",
       "50%       1.000000     2.000000     2.000000      89.000000\n",
       "75%       1.000000     3.000000     2.000000     114.750000\n",
       "max       8.000000     7.000000   134.000000  123456.000000"
      ]
     },
     "execution_count": 2022,
     "metadata": {},
     "output_type": "execute_result"
    }
   ],
   "source": [
    "#statistiques descriptives\n",
    "df.describe()"
   ]
  },
  {
   "cell_type": "code",
   "execution_count": 2023,
   "id": "1c7f56db",
   "metadata": {},
   "outputs": [
    {
     "name": "stdout",
     "output_type": "stream",
     "text": [
      "les valeurs manquantes : \n",
      " title             1\n",
      "price           283\n",
      "city_name         1\n",
      "salon           153\n",
      "nb_rooms        283\n",
      "nb_baths        293\n",
      "surface_area     31\n",
      "equipment       371\n",
      "link              0\n",
      "dtype: int64\n"
     ]
    }
   ],
   "source": [
    "# valeurs manquantes\n",
    "missing = df.isnull().sum()\n",
    "print(\"les valeurs manquantes : \\n\", missing)"
   ]
  },
  {
   "cell_type": "code",
   "execution_count": 2024,
   "id": "9a71383c",
   "metadata": {},
   "outputs": [
    {
     "name": "stdout",
     "output_type": "stream",
     "text": [
      "Nombre de doublons : 41\n",
      "Nombre de lignes :                                                  title         price  \\\n",
      "133            Appartement à vendre 95 m² à Mohammedia  1 470 000 DH   \n",
      "233             Appartement à vendre 83 m² à Bouskoura    790 000 DH   \n",
      "334    Appartements moyenne standing à vendre à Tanger           NaN   \n",
      "440           Appartement à vendre 217 m² à Casablanca  1 400 000 DH   \n",
      "476           Appartement de rêve à vendre à Ain Atiq.      8 200 DH   \n",
      "619              Appartement à vendre 115 m² à Kénitra    760 000 DH   \n",
      "654              Appartement à vendre 111 m² à Kénitra    775 000 DH   \n",
      "689                  Appartements à vendre à El Jadida    650 000 DH   \n",
      "724                      Appartement 70 m² à Marrakech    740 000 DH   \n",
      "757            Appartement de 99m² à vendre Casablanca    850 000 DH   \n",
      "856    Appartement à vendre 160 m² à Casablanca Marina  3 700 000 DH   \n",
      "890              Appartement à vendre 115 m² à Kénitra    760 000 DH   \n",
      "925            Appartement à vendre 95 m² à Mohammedia  1 470 000 DH   \n",
      "926          Appartement de standing bd ibnou tachfine    950 000 DH   \n",
      "994           Appartement à vendre 217 m² à Casablanca  1 400 000 DH   \n",
      "1031                   Appartement économique à vendre    190 000 DH   \n",
      "1032  Appartement à vendre 3 chambres à Les Princesses  2 100 000 DH   \n",
      "1068    Appartement à Vendre chez Touahri 14 3 Façades           NaN   \n",
      "1069           Appartement à vendre 33 m² à Casablanca    770 000 DH   \n",
      "1105                    Appartement standing ibn badis           NaN   \n",
      "1179               Appartement à vendre 58 m² à Meknès    290 000 DH   \n",
      "1216         APPARTEMENT A LOUÉ SUR HAY RIAD PRESTIGIA     15 000 DH   \n",
      "1254                     appartement de 84 m² à vendre    700 000 DH   \n",
      "1290           Appartement à vendre 150 m² à Marrakech  2 850 000 DH   \n",
      "1327   Appartement à vendre 160 m² à Casablanca Marina  3 700 000 DH   \n",
      "1365               Appartement à vendre 74 m² à Asilah  1 050 000 DH   \n",
      "1438             Appartement à vendre 100 m² à Kénitra    699 999 DH   \n",
      "1439                   Appartement économique à vendre    190 000 DH   \n",
      "1476                               appartement avendre           NaN   \n",
      "1512                 Appartements à vendre à El Jadida    650 000 DH   \n",
      "1550                        Appartement 67 m² à Tanger           NaN   \n",
      "1586           Appartement à vendre 33 m² à Casablanca    770 000 DH   \n",
      "1623                  Appartement 69 m² à sidi maarouf    750 000 DH   \n",
      "1624  Appartement à vendre à Résidence perle de mimosa  1 060 000 DH   \n",
      "1661                 Appartement 130m2 à louer à Rabat     15 000 DH   \n",
      "1697           Appartement à vendre 44 m² à Casablanca    809 000 DH   \n",
      "1698            Appartement à vendre 90 m² à Bouskoura    799 000 DH   \n",
      "1734              Appartement à vendre 135 m² à Tanger     11 000 DH   \n",
      "1735          Appartement à vendre 217 m² à Casablanca  1 400 000 DH   \n",
      "1771                     appartement de 84 m² à vendre    700 000 DH   \n",
      "1772                Appartement Neuf à vendre à Temara  1 200 000 DH   \n",
      "\n",
      "       city_name  salon  nb_rooms  nb_baths  surface_area  \\\n",
      "133   Mohammedia    1.0       2.0       1.0          95.0   \n",
      "233    Bouskoura    1.0       2.0      83.0          83.0   \n",
      "334       Tanger    1.0       NaN       NaN          90.0   \n",
      "440   Casablanca    3.0       3.0       2.0         147.0   \n",
      "476       Temara    1.0       3.0       2.0         105.0   \n",
      "619      Kénitra    2.0       3.0       3.0         115.0   \n",
      "654      Kénitra    2.0       3.0       3.0         111.0   \n",
      "689    El Jadida    1.0       2.0       2.0          78.0   \n",
      "724    Marrakech    1.0       2.0       2.0          70.0   \n",
      "757   Casablanca    1.0       2.0       2.0          66.0   \n",
      "856   Casablanca    2.0       2.0       2.0         160.0   \n",
      "890      Kénitra    2.0       3.0       3.0         115.0   \n",
      "925   Mohammedia    1.0       2.0       1.0          95.0   \n",
      "926   Casablanca    2.0       2.0       1.0         101.0   \n",
      "994   Casablanca    3.0       3.0       2.0         147.0   \n",
      "1031        Salé    1.0       2.0       1.0          55.0   \n",
      "1032  Casablanca    2.0       3.0       2.0         112.0   \n",
      "1068        Salé    1.0       NaN       NaN         101.0   \n",
      "1069  Casablanca    1.0       1.0       1.0          33.0   \n",
      "1105   El Jadida    2.0       NaN       NaN         120.0   \n",
      "1179      Meknès    1.0       2.0       2.0          58.0   \n",
      "1216       Rabat    1.0       3.0       2.0         130.0   \n",
      "1254  Casablanca    1.0       2.0       2.0          84.0   \n",
      "1290   Marrakech    2.0       3.0       2.0         150.0   \n",
      "1327  Casablanca    2.0       2.0       2.0         160.0   \n",
      "1365      Asilah    1.0       2.0       1.0          74.0   \n",
      "1438     Kénitra    2.0       2.0       2.0         100.0   \n",
      "1439        Salé    1.0       2.0       1.0          55.0   \n",
      "1476  Casablanca    2.0       NaN       NaN          93.0   \n",
      "1512   El Jadida    1.0       2.0       2.0          78.0   \n",
      "1550      Tanger    1.0       NaN       NaN          67.0   \n",
      "1586  Casablanca    1.0       1.0       1.0          33.0   \n",
      "1623  Casablanca    1.0       3.0       2.0          69.0   \n",
      "1624  Mohammedia    1.0       3.0       1.0          87.0   \n",
      "1661       Rabat    1.0       3.0       2.0         130.0   \n",
      "1697  Casablanca    1.0       1.0       1.0          44.0   \n",
      "1698   Bouskoura    1.0       2.0       2.0          90.0   \n",
      "1734      Tanger    1.0       2.0       2.0         135.0   \n",
      "1735  Casablanca    3.0       3.0       2.0         147.0   \n",
      "1771  Casablanca    1.0       2.0       2.0          84.0   \n",
      "1772      Temara    1.0       2.0       2.0          84.0   \n",
      "\n",
      "                                              equipment  \\\n",
      "133                                                 NaN   \n",
      "233                  Ascenseur/Balcon/Concierge/Parking   \n",
      "334   Ascenseur/Balcon/Cuisine Équipée/Parking/Sécurité   \n",
      "440          Ascenseur/Balcon/Parking/Sécurité/Terrasse   \n",
      "476   Ascenseur/Balcon/Concierge/Cuisine Équipée/Par...   \n",
      "619   Ascenseur/Balcon/Concierge/Cuisine Équipée/Par...   \n",
      "654   Ascenseur/Balcon/Concierge/Cuisine Équipée/Par...   \n",
      "689   Ascenseur/Balcon/Concierge/Cuisine Équipée/Par...   \n",
      "724   Ascenseur/Chauffage/Climatisation/Concierge/Cu...   \n",
      "757   Ascenseur/Cuisine Équipée/Parking/Sécurité/Ter...   \n",
      "856   Ascenseur/Balcon/Chauffage/Climatisation/Conci...   \n",
      "890   Ascenseur/Balcon/Concierge/Cuisine Équipée/Par...   \n",
      "925                                                 NaN   \n",
      "926   Ascenseur/Balcon/Climatisation/Concierge/Cuisi...   \n",
      "994          Ascenseur/Balcon/Parking/Sécurité/Terrasse   \n",
      "1031                  Ascenseur/Balcon/Parking/Terrasse   \n",
      "1032  Ascenseur/Balcon/Chauffage/Climatisation/Conci...   \n",
      "1068  Ascenseur/Balcon/Climatisation/Concierge/Cuisi...   \n",
      "1069  Ascenseur/Balcon/Climatisation/Concierge/Cuisi...   \n",
      "1105  Ascenseur/Balcon/Climatisation/Concierge/Cuisi...   \n",
      "1179  Ascenseur/Balcon/Chauffage/Climatisation/Cuisi...   \n",
      "1216                                                NaN   \n",
      "1254                   Cuisine Équipée/Parking/Sécurité   \n",
      "1290  Ascenseur/Balcon/Chauffage/Climatisation/Conci...   \n",
      "1327  Ascenseur/Balcon/Chauffage/Climatisation/Conci...   \n",
      "1365  Ascenseur/Chauffage/Climatisation/Concierge/Cu...   \n",
      "1438  Ascenseur/Balcon/Climatisation/Concierge/Cuisi...   \n",
      "1439                  Ascenseur/Balcon/Parking/Terrasse   \n",
      "1476  Ascenseur/Concierge/Cuisine Équipée/Parking/Te...   \n",
      "1512  Ascenseur/Balcon/Concierge/Cuisine Équipée/Par...   \n",
      "1550  Ascenseur/Balcon/Chauffage/Climatisation/Conci...   \n",
      "1586  Ascenseur/Balcon/Climatisation/Concierge/Cuisi...   \n",
      "1623  Ascenseur/Balcon/Cuisine Équipée/Parking/Sécurité   \n",
      "1624  Ascenseur/Balcon/Climatisation/Cuisine Équipée...   \n",
      "1661  Ascenseur/Balcon/Chauffage/Climatisation/Conci...   \n",
      "1697                                                NaN   \n",
      "1698  Ascenseur/Balcon/Chauffage/Climatisation/Conci...   \n",
      "1734                                                NaN   \n",
      "1735         Ascenseur/Balcon/Parking/Sécurité/Terrasse   \n",
      "1771                   Cuisine Équipée/Parking/Sécurité   \n",
      "1772  Ascenseur/Balcon/Climatisation/Concierge/Cuisi...   \n",
      "\n",
      "                                      link  \n",
      "133   https://www.avito.ma/vi/55462984.htm  \n",
      "233   https://www.avito.ma/vi/53111879.htm  \n",
      "334   https://www.avito.ma/vi/55823700.htm  \n",
      "440   https://www.avito.ma/vi/55595022.htm  \n",
      "476   https://www.avito.ma/vi/50972579.htm  \n",
      "619   https://www.avito.ma/vi/55152349.htm  \n",
      "654   https://www.avito.ma/vi/55797148.htm  \n",
      "689   https://www.avito.ma/vi/54388254.htm  \n",
      "724   https://www.avito.ma/vi/55025656.htm  \n",
      "757   https://www.avito.ma/vi/55793468.htm  \n",
      "856   https://www.avito.ma/vi/55714361.htm  \n",
      "890   https://www.avito.ma/vi/55152349.htm  \n",
      "925   https://www.avito.ma/vi/55462984.htm  \n",
      "926   https://www.avito.ma/vi/54727876.htm  \n",
      "994   https://www.avito.ma/vi/55595022.htm  \n",
      "1031  https://www.avito.ma/vi/54265071.htm  \n",
      "1032  https://www.avito.ma/vi/52698779.htm  \n",
      "1068  https://www.avito.ma/vi/55476483.htm  \n",
      "1069  https://www.avito.ma/vi/54343420.htm  \n",
      "1105  https://www.avito.ma/vi/55292923.htm  \n",
      "1179  https://www.avito.ma/vi/51420274.htm  \n",
      "1216  https://www.avito.ma/vi/55829430.htm  \n",
      "1254  https://www.avito.ma/vi/55818389.htm  \n",
      "1290  https://www.avito.ma/vi/55814295.htm  \n",
      "1327  https://www.avito.ma/vi/55714361.htm  \n",
      "1365  https://www.avito.ma/vi/54451286.htm  \n",
      "1438  https://www.avito.ma/vi/55797207.htm  \n",
      "1439  https://www.avito.ma/vi/54265071.htm  \n",
      "1476  https://www.avito.ma/vi/55785357.htm  \n",
      "1512  https://www.avito.ma/vi/54388254.htm  \n",
      "1550  https://www.avito.ma/vi/53961997.htm  \n",
      "1586  https://www.avito.ma/vi/54343420.htm  \n",
      "1623  https://www.avito.ma/vi/54227561.htm  \n",
      "1624  https://www.avito.ma/vi/55789230.htm  \n",
      "1661  https://www.avito.ma/vi/55829370.htm  \n",
      "1697  https://www.avito.ma/vi/54344492.htm  \n",
      "1698  https://www.avito.ma/vi/48037070.htm  \n",
      "1734  https://www.avito.ma/vi/53687956.htm  \n",
      "1735  https://www.avito.ma/vi/55595022.htm  \n",
      "1771  https://www.avito.ma/vi/55818389.htm  \n",
      "1772  https://www.avito.ma/vi/55832294.htm  \n"
     ]
    },
    {
     "name": "stdout",
     "output_type": "stream",
     "text": [
      "Nombre de doublons : 0\n"
     ]
    }
   ],
   "source": [
    "doublons= df.duplicated()\n",
    "print(f\"Nombre de doublons : {doublons.sum()}\")\n",
    "print(f\"Nombre de lignes : {df[doublons==True]}\")\n",
    "df=df.drop_duplicates()\n",
    "doublons= df.duplicated()\n",
    "print(f\"Nombre de doublons : {doublons.sum()}\")\n"
   ]
  },
  {
   "cell_type": "code",
   "execution_count": 2025,
   "id": "3a7dbfa4",
   "metadata": {},
   "outputs": [],
   "source": [
    "# Analyser la distribution des variables numériques.\n"
   ]
  },
  {
   "cell_type": "code",
   "execution_count": 2026,
   "id": "f74bb41c",
   "metadata": {},
   "outputs": [],
   "source": [
    "# Étudier les relations entre variables à l’aide de matrices de corrélation et de visualisations."
   ]
  },
  {
   "cell_type": "markdown",
   "id": "753b55fb",
   "metadata": {},
   "source": [
    "# Prétraitement des données"
   ]
  },
  {
   "cell_type": "code",
   "execution_count": 2027,
   "id": "81c9bd53",
   "metadata": {},
   "outputs": [
    {
     "data": {
      "text/plain": [
       "(1732, 9)"
      ]
     },
     "execution_count": 2027,
     "metadata": {},
     "output_type": "execute_result"
    }
   ],
   "source": [
    "df.shape"
   ]
  },
  {
   "cell_type": "code",
   "execution_count": 2028,
   "id": "4fe0a52f",
   "metadata": {},
   "outputs": [
    {
     "data": {
      "image/png": "[encoded data removed]",
      "text/plain": [
       "<Figure size 1600x900 with 2 Axes>"
      ]
     },
     "metadata": {},
     "output_type": "display_data"
    }
   ],
   "source": [
    "plt.figure(figsize=(16,9))\n",
    "sns.heatmap(df.isnull())\n",
    "plt.savefig(\"../eda_img/df_null_values.png\")"
   ]
  },
  {
   "cell_type": "markdown",
   "id": "3a106750",
   "metadata": {},
   "source": [
    "**Nettoyage & Transformation**"
   ]
  },
  {
   "cell_type": "code",
   "execution_count": 2029,
   "id": "6b63defc",
   "metadata": {},
   "outputs": [
    {
     "name": "stdout",
     "output_type": "stream",
     "text": [
      "colone avant 9 -> colonnes apres  19\n"
     ]
    }
   ],
   "source": [
    "#Extraire les équipements (equipment) dans des colonnes booléennes à l’aide de str.get_dummies().\n",
    "if 'equipment' in df.columns : \n",
    "    equip=df[\"equipment\"].str.get_dummies(sep='/')\n",
    "    df= pd.concat([df.drop(\"equipment\",axis=1),equip],axis=1)\n",
    "print(\"colone avant 9 -> colonnes apres \", df.shape[1])"
   ]
  },
  {
   "cell_type": "code",
   "execution_count": 2030,
   "id": "e2c12191",
   "metadata": {},
   "outputs": [
    {
     "data": {
      "text/html": [
       "<div>\n",
       "<style scoped>\n",
       "    .dataframe tbody tr th:only-of-type {\n",
       "        vertical-align: middle;\n",
       "    }\n",
       "\n",
       "    .dataframe tbody tr th {\n",
       "        vertical-align: top;\n",
       "    }\n",
       "\n",
       "    .dataframe thead th {\n",
       "        text-align: right;\n",
       "    }\n",
       "</style>\n",
       "<table border=\"1\" class=\"dataframe\">\n",
       "  <thead>\n",
       "    <tr style=\"text-align: right;\">\n",
       "      <th></th>\n",
       "      <th>title</th>\n",
       "      <th>price</th>\n",
       "      <th>city_name</th>\n",
       "      <th>salon</th>\n",
       "      <th>nb_rooms</th>\n",
       "      <th>nb_baths</th>\n",
       "      <th>surface_area</th>\n",
       "      <th>link</th>\n",
       "      <th>Ascenseur</th>\n",
       "      <th>Balcon</th>\n",
       "      <th>Chauffage</th>\n",
       "      <th>Climatisation</th>\n",
       "      <th>Concierge</th>\n",
       "      <th>Cuisine Équipée</th>\n",
       "      <th>Duplex</th>\n",
       "      <th>Meublé</th>\n",
       "      <th>Parking</th>\n",
       "      <th>Sécurité</th>\n",
       "      <th>Terrasse</th>\n",
       "    </tr>\n",
       "  </thead>\n",
       "  <tbody>\n",
       "    <tr>\n",
       "      <th>0</th>\n",
       "      <td>CMN-MA-1752 - Appartement à vendre à Palmier</td>\n",
       "      <td>2 000 000 DH</td>\n",
       "      <td>Casablanca</td>\n",
       "      <td>NaN</td>\n",
       "      <td>2.0</td>\n",
       "      <td>2.0</td>\n",
       "      <td>168.0</td>\n",
       "      <td>https://www.avito.ma/fr/palmier/appartements/C...</td>\n",
       "      <td>1</td>\n",
       "      <td>1</td>\n",
       "      <td>0</td>\n",
       "      <td>0</td>\n",
       "      <td>0</td>\n",
       "      <td>0</td>\n",
       "      <td>0</td>\n",
       "      <td>0</td>\n",
       "      <td>1</td>\n",
       "      <td>0</td>\n",
       "      <td>1</td>\n",
       "    </tr>\n",
       "    <tr>\n",
       "      <th>1</th>\n",
       "      <td>66370-Vente Appt à Casablanca Hay Hassani de 1...</td>\n",
       "      <td>1 195 000 DH</td>\n",
       "      <td>Casablanca</td>\n",
       "      <td>NaN</td>\n",
       "      <td>2.0</td>\n",
       "      <td>2.0</td>\n",
       "      <td>98.0</td>\n",
       "      <td>https://www.avito.ma/fr/hay_hassani/appartemen...</td>\n",
       "      <td>1</td>\n",
       "      <td>1</td>\n",
       "      <td>1</td>\n",
       "      <td>1</td>\n",
       "      <td>0</td>\n",
       "      <td>1</td>\n",
       "      <td>0</td>\n",
       "      <td>0</td>\n",
       "      <td>1</td>\n",
       "      <td>0</td>\n",
       "      <td>0</td>\n",
       "    </tr>\n",
       "  </tbody>\n",
       "</table>\n",
       "</div>"
      ],
      "text/plain": [
       "                                               title         price  \\\n",
       "0       CMN-MA-1752 - Appartement à vendre à Palmier  2 000 000 DH   \n",
       "1  66370-Vente Appt à Casablanca Hay Hassani de 1...  1 195 000 DH   \n",
       "\n",
       "    city_name  salon  nb_rooms  nb_baths  surface_area  \\\n",
       "0  Casablanca    NaN       2.0       2.0         168.0   \n",
       "1  Casablanca    NaN       2.0       2.0          98.0   \n",
       "\n",
       "                                                link  Ascenseur  Balcon  \\\n",
       "0  https://www.avito.ma/fr/palmier/appartements/C...          1       1   \n",
       "1  https://www.avito.ma/fr/hay_hassani/appartemen...          1       1   \n",
       "\n",
       "   Chauffage  Climatisation  Concierge  Cuisine Équipée  Duplex  Meublé  \\\n",
       "0          0              0          0                0       0       0   \n",
       "1          1              1          0                1       0       0   \n",
       "\n",
       "   Parking  Sécurité  Terrasse  \n",
       "0        1         0         1  \n",
       "1        1         0         0  "
      ]
     },
     "execution_count": 2030,
     "metadata": {},
     "output_type": "execute_result"
    }
   ],
   "source": [
    "df.head(2)"
   ]
  },
  {
   "cell_type": "code",
   "execution_count": 2031,
   "id": "6ad17031",
   "metadata": {},
   "outputs": [
    {
     "data": {
      "text/plain": [
       "0    2000000.0\n",
       "1    1195000.0\n",
       "Name: price, dtype: float64"
      ]
     },
     "execution_count": 2031,
     "metadata": {},
     "output_type": "execute_result"
    }
   ],
   "source": [
    "#Convertir la colonne price (de type objet) en type float, en supprimant les caractères non numériques.\n",
    "df[\"price\"]= df[\"price\"].str.replace(r'[^\\d.]', '', regex=True).astype(float)\n",
    "df[\"price\"].head(2)"
   ]
  },
  {
   "cell_type": "code",
   "execution_count": 2032,
   "id": "da5808fb",
   "metadata": {},
   "outputs": [
    {
     "data": {
      "text/html": [
       "<div>\n",
       "<style scoped>\n",
       "    .dataframe tbody tr th:only-of-type {\n",
       "        vertical-align: middle;\n",
       "    }\n",
       "\n",
       "    .dataframe tbody tr th {\n",
       "        vertical-align: top;\n",
       "    }\n",
       "\n",
       "    .dataframe thead th {\n",
       "        text-align: right;\n",
       "    }\n",
       "</style>\n",
       "<table border=\"1\" class=\"dataframe\">\n",
       "  <thead>\n",
       "    <tr style=\"text-align: right;\">\n",
       "      <th></th>\n",
       "      <th>title</th>\n",
       "      <th>price</th>\n",
       "      <th>city_name</th>\n",
       "      <th>salon</th>\n",
       "      <th>nb_rooms</th>\n",
       "      <th>nb_baths</th>\n",
       "      <th>surface_area</th>\n",
       "      <th>Ascenseur</th>\n",
       "      <th>Balcon</th>\n",
       "      <th>Chauffage</th>\n",
       "      <th>Climatisation</th>\n",
       "      <th>Concierge</th>\n",
       "      <th>Cuisine Équipée</th>\n",
       "      <th>Duplex</th>\n",
       "      <th>Meublé</th>\n",
       "      <th>Parking</th>\n",
       "      <th>Sécurité</th>\n",
       "      <th>Terrasse</th>\n",
       "    </tr>\n",
       "  </thead>\n",
       "  <tbody>\n",
       "  </tbody>\n",
       "</table>\n",
       "</div>"
      ],
      "text/plain": [
       "Empty DataFrame\n",
       "Columns: [title, price, city_name, salon, nb_rooms, nb_baths, surface_area, Ascenseur, Balcon, Chauffage, Climatisation, Concierge, Cuisine Équipée, Duplex, Meublé, Parking, Sécurité, Terrasse]\n",
       "Index: []"
      ]
     },
     "execution_count": 2032,
     "metadata": {},
     "output_type": "execute_result"
    }
   ],
   "source": [
    "#Supprimer les colonnes inutiles telles que equipment et link.\n",
    "df=df.drop(\"link\", axis=1)\n",
    "df.head(0)"
   ]
  },
  {
   "cell_type": "code",
   "execution_count": 2033,
   "id": "f9f18e4d",
   "metadata": {},
   "outputs": [],
   "source": [
    "#Traitement de la colonne city_name. Uniformiser les noms de villes : convertir les noms en arabe vers leur équivalent français\n",
    "arabic_to_french = {\n",
    "    \"الدار البيضاء\": \"Casablanca\",\n",
    "    \"دار بوعزة\": \"Dar Bouazza\",\n",
    "    \"الرباط\": \"Rabat\",\n",
    "    \"مراكش\": \"Marrakech\",\n",
    "    \"أصيلة\": \"Asilah\",\n",
    "    \"بوسكورة\": \"Bouskoura\",\n",
    "    \"القنيطرة\": \"Kénitra\",\n",
    "    \"المحمدية\": \"Mohammedia\",\n",
    "    \"أكادير\": \"Agadir\",\n",
    "    \"تمارة الجديدة\": \"Tamesna\",\n",
    "    \"سلا\": \"Salé\",\n",
    "    \"حد سوالم\": \"Had Soualem\",\n",
    "    \"تمارة\": \"Temara\",\n",
    "    \"بن سليمان\": \"Benslimane\",\n",
    "    \"طنجة\": \"Tanger\",\n",
    "    \"بوزنيقة\": \"Bouznika\",\n",
    "    \"مكناس\": \"Meknès\",\n",
    "    \"فاس\": \"Fès\",\n",
    "    \"الجديدة\": \"El Jadida\",\n",
    "    \"المنصورية\": \"El Mansouria\",\n",
    "    \"مرتيل\": \"Martil\",\n",
    "    \"الفنيدق\": \"Fnideq\",\n",
    "    \"تطوان\": \"Tétouan\",\n",
    "    \"السعيدية\": \"Saidia\",\n",
    "    \"النواصر\": \"Nouaceur\",\n",
    "    \"تماريس\": \"Tamaris\",\n",
    "    \"كابو نيكرو\": \"Cabo Negro\",\n",
    "    \"سيدي علال البحراوي\": \"Sidi Allal El Bahraoui\",\n",
    "    \"بني ملال\": \"Béni Mellal\",\n",
    "    \"غير معروف\": \"Unknown\",\n",
    "    \"الصويرة\": \"Essaouira\",\n",
    "    \"المهدية\": \"Mehdia\",\n",
    "    \"وجدة\": \"Oujda\",\n",
    "    \"وادي لاو\": \"Oued Laou\",\n",
    "    \"الدشيرة\": \"Dcheira\",\n",
    "    \"سيدي رحال\": \"Sidi Rahal\",\n",
    "    \"دروة\": \"Deroua\",\n",
    "    \"عين عتيق\": \"Ain Attig\",\n",
    "    \"آسفي\": \"Safi\",\n",
    "    \"إنزكان\": \"Inzegan\",\n",
    "    \"إفران\": \"Ifrane\",\n",
    "    \"الداخلة\": \"Dakhla\",\n",
    "    \"الدشيرة الجهادية\": \"Dcheïra El Jihadia\",\n",
    "    \"تغازوت\": \"Taghazout\",\n",
    "    \"سيدي بوكنادل\": \"Sidi Bouknadel\",\n",
    "    \"الصخيرات\": \"Skhirat\",\n",
    "    \"خريبكة\": \"Khouribga\",\n",
    "    \"بركان\": \"Berkane\",\n",
    "    \"مرس الخير\": \"Mers El Kheir\",\n",
    "    \"برشيد\": \"Berrechid\",\n",
    "    \"تيزنيت\": \"Tiznit\",\n",
    "    \"أكادير ملول\": \"Agadir Melloul\",\n",
    "    \"الناظور\": \"Nador\",\n",
    "    \"المنزه\": \"El Menzeh\",\n",
    "    \"بني أنصار\": \"Bni Ansar\",\n",
    "    \"المضيق\": \"Mdiq\",\n",
    "    \"تيط مليل\": \"Tit Mellil\",\n",
    "    \"سوق أربعاء\": \"Souk El Arbaa\",\n",
    "    \"بيوڭرى\": \"Biougra\",\n",
    "    \"سطات\": \"Settat\",\n",
    "    \"عين عودة\": \"Ain Aouda\",\n",
    "    \"تازة\": \"Taza\",\n",
    "    \"الخميسات\": \"Khemisset\",\n",
    "    \"وادي زم\": \"Oued Zem\",\n",
    "    \"صفرو\": \"Sefrou\",\n",
    "    \"مرزوكة\": \"Merzouga\",\n",
    "    \"الحاجب\": \"El Hajeb\",\n",
    "    \"سلوان\": \"Selouane\",\n",
    "    \"تاونات\": \"Taounate\",\n",
    "    \"سيدي بنور\": \"Sidi Bennour\",\n",
    "    \"القصيبة\": \"El Ksiba\"\n",
    "}\n",
    "df[\"city_name\"]= df[\"city_name\"].replace(arabic_to_french)\n",
    "# Remplacer les valeurs manquantes dans city_name par \"Unknown\".\n",
    "df[\"city_name\"]= df[\"city_name\"].fillna(\"Unknown\")"
   ]
  },
  {
   "cell_type": "markdown",
   "id": "df8d4f53",
   "metadata": {},
   "source": [
    "**Gestion des valeurs manquantes:**"
   ]
  },
  {
   "cell_type": "code",
   "execution_count": 2034,
   "id": "9c9b1ef0",
   "metadata": {},
   "outputs": [
    {
     "name": "stdout",
     "output_type": "stream",
     "text": [
      "col num: \n",
      " ['price', 'salon', 'nb_rooms', 'nb_baths', 'surface_area']\n",
      "col cat: \n",
      " ['title', 'city_name']\n"
     ]
    }
   ],
   "source": [
    "# extraire les colonnes num et categoroes\n",
    "col_num= df.select_dtypes(include=['float64']).columns\n",
    "col_cat= df.select_dtypes(include=[\"object\"]).columns\n",
    "print(\"col num: \\n\", col_num.tolist())\n",
    "print(\"col cat: \\n\", col_cat.tolist())"
   ]
  },
  {
   "cell_type": "code",
   "execution_count": 2035,
   "id": "d2c5be0c",
   "metadata": {},
   "outputs": [
    {
     "name": "stdout",
     "output_type": "stream",
     "text": [
      "les valeurs manquantes :\n",
      " price           16.050808\n",
      "salon            8.833718\n",
      "nb_rooms        16.050808\n",
      "nb_baths        16.628176\n",
      "surface_area     1.789838\n",
      "dtype: float64\n"
     ]
    }
   ],
   "source": [
    "perce_null=df[col_num].isnull().sum() / df.shape[0] * 100\n",
    "print(\"les valeurs manquantes :\\n\",perce_null )"
   ]
  },
  {
   "cell_type": "code",
   "execution_count": 2036,
   "id": "e92d091b",
   "metadata": {},
   "outputs": [],
   "source": [
    "#Pour les colonnes numériques : imputer les valeurs manquantes par la médiane.\n",
    "for col in col_num : \n",
    "    df[col]=df[col].fillna(df[col].median())\n"
   ]
  },
  {
   "cell_type": "code",
   "execution_count": 2037,
   "id": "53fd7949",
   "metadata": {},
   "outputs": [],
   "source": [
    "#Pour les colonnes catégorielles (chaînes de caractères) : imputer avec \"Unknown\"\n",
    "for col in col_cat : \n",
    "    df[col]=df[col].fillna(\"Unknown\")"
   ]
  },
  {
   "cell_type": "code",
   "execution_count": 2038,
   "id": "e7db0230",
   "metadata": {},
   "outputs": [
    {
     "data": {
      "text/plain": [
       "title              0\n",
       "price              0\n",
       "city_name          0\n",
       "salon              0\n",
       "nb_rooms           0\n",
       "nb_baths           0\n",
       "surface_area       0\n",
       "Ascenseur          0\n",
       "Balcon             0\n",
       "Chauffage          0\n",
       "Climatisation      0\n",
       "Concierge          0\n",
       "Cuisine Équipée    0\n",
       "Duplex             0\n",
       "Meublé             0\n",
       "Parking            0\n",
       "Sécurité           0\n",
       "Terrasse           0\n",
       "dtype: int64"
      ]
     },
     "execution_count": 2038,
     "metadata": {},
     "output_type": "execute_result"
    }
   ],
   "source": [
    "df.isnull().sum()"
   ]
  },
  {
   "cell_type": "code",
   "execution_count": 2039,
   "id": "b33f7711",
   "metadata": {},
   "outputs": [
    {
     "data": {
      "image/png": "[encoded data removed]",
      "text/plain": [
       "<Figure size 1600x900 with 2 Axes>"
      ]
     },
     "metadata": {},
     "output_type": "display_data"
    }
   ],
   "source": [
    "plt.figure(figsize=(16,9))\n",
    "sns.heatmap(df.isnull())\n",
    "plt.savefig(\"../eda_img/df_after_hundel_null.png\")"
   ]
  },
  {
   "cell_type": "code",
   "execution_count": 2040,
   "id": "ae650631",
   "metadata": {},
   "outputs": [
    {
     "data": {
      "text/html": [
       "<div>\n",
       "<style scoped>\n",
       "    .dataframe tbody tr th:only-of-type {\n",
       "        vertical-align: middle;\n",
       "    }\n",
       "\n",
       "    .dataframe tbody tr th {\n",
       "        vertical-align: top;\n",
       "    }\n",
       "\n",
       "    .dataframe thead th {\n",
       "        text-align: right;\n",
       "    }\n",
       "</style>\n",
       "<table border=\"1\" class=\"dataframe\">\n",
       "  <thead>\n",
       "    <tr style=\"text-align: right;\">\n",
       "      <th></th>\n",
       "      <th>price</th>\n",
       "      <th>salon</th>\n",
       "      <th>nb_rooms</th>\n",
       "      <th>nb_baths</th>\n",
       "      <th>surface_area</th>\n",
       "      <th>Ascenseur</th>\n",
       "      <th>Balcon</th>\n",
       "      <th>Chauffage</th>\n",
       "      <th>Climatisation</th>\n",
       "      <th>Concierge</th>\n",
       "      <th>Cuisine Équipée</th>\n",
       "      <th>Duplex</th>\n",
       "      <th>Meublé</th>\n",
       "      <th>Parking</th>\n",
       "      <th>Sécurité</th>\n",
       "      <th>Terrasse</th>\n",
       "    </tr>\n",
       "  </thead>\n",
       "  <tbody>\n",
       "    <tr>\n",
       "      <th>count</th>\n",
       "      <td>1.732000e+03</td>\n",
       "      <td>1732.000000</td>\n",
       "      <td>1732.000000</td>\n",
       "      <td>1732.000000</td>\n",
       "      <td>1732.000000</td>\n",
       "      <td>1732.000000</td>\n",
       "      <td>1732.000000</td>\n",
       "      <td>1732.000000</td>\n",
       "      <td>1732.000000</td>\n",
       "      <td>1732.000000</td>\n",
       "      <td>1732.000000</td>\n",
       "      <td>1732.000000</td>\n",
       "      <td>1732.000000</td>\n",
       "      <td>1732.000000</td>\n",
       "      <td>1732.000000</td>\n",
       "      <td>1732.000000</td>\n",
       "    </tr>\n",
       "    <tr>\n",
       "      <th>mean</th>\n",
       "      <td>1.132807e+06</td>\n",
       "      <td>1.240185</td>\n",
       "      <td>2.320439</td>\n",
       "      <td>2.219977</td>\n",
       "      <td>175.237298</td>\n",
       "      <td>0.524827</td>\n",
       "      <td>0.569284</td>\n",
       "      <td>0.180139</td>\n",
       "      <td>0.303695</td>\n",
       "      <td>0.409931</td>\n",
       "      <td>0.505196</td>\n",
       "      <td>0.025982</td>\n",
       "      <td>0.108545</td>\n",
       "      <td>0.530600</td>\n",
       "      <td>0.506351</td>\n",
       "      <td>0.411085</td>\n",
       "    </tr>\n",
       "    <tr>\n",
       "      <th>std</th>\n",
       "      <td>1.173942e+06</td>\n",
       "      <td>0.535339</td>\n",
       "      <td>0.628220</td>\n",
       "      <td>6.779740</td>\n",
       "      <td>2978.059535</td>\n",
       "      <td>0.499527</td>\n",
       "      <td>0.495319</td>\n",
       "      <td>0.384414</td>\n",
       "      <td>0.459985</td>\n",
       "      <td>0.491963</td>\n",
       "      <td>0.500117</td>\n",
       "      <td>0.159126</td>\n",
       "      <td>0.311157</td>\n",
       "      <td>0.499207</td>\n",
       "      <td>0.500104</td>\n",
       "      <td>0.492173</td>\n",
       "    </tr>\n",
       "    <tr>\n",
       "      <th>min</th>\n",
       "      <td>3.500000e+01</td>\n",
       "      <td>0.000000</td>\n",
       "      <td>1.000000</td>\n",
       "      <td>0.000000</td>\n",
       "      <td>1.000000</td>\n",
       "      <td>0.000000</td>\n",
       "      <td>0.000000</td>\n",
       "      <td>0.000000</td>\n",
       "      <td>0.000000</td>\n",
       "      <td>0.000000</td>\n",
       "      <td>0.000000</td>\n",
       "      <td>0.000000</td>\n",
       "      <td>0.000000</td>\n",
       "      <td>0.000000</td>\n",
       "      <td>0.000000</td>\n",
       "      <td>0.000000</td>\n",
       "    </tr>\n",
       "    <tr>\n",
       "      <th>25%</th>\n",
       "      <td>6.500000e+05</td>\n",
       "      <td>1.000000</td>\n",
       "      <td>2.000000</td>\n",
       "      <td>1.000000</td>\n",
       "      <td>72.000000</td>\n",
       "      <td>0.000000</td>\n",
       "      <td>0.000000</td>\n",
       "      <td>0.000000</td>\n",
       "      <td>0.000000</td>\n",
       "      <td>0.000000</td>\n",
       "      <td>0.000000</td>\n",
       "      <td>0.000000</td>\n",
       "      <td>0.000000</td>\n",
       "      <td>0.000000</td>\n",
       "      <td>0.000000</td>\n",
       "      <td>0.000000</td>\n",
       "    </tr>\n",
       "    <tr>\n",
       "      <th>50%</th>\n",
       "      <td>8.900000e+05</td>\n",
       "      <td>1.000000</td>\n",
       "      <td>2.000000</td>\n",
       "      <td>2.000000</td>\n",
       "      <td>88.000000</td>\n",
       "      <td>1.000000</td>\n",
       "      <td>1.000000</td>\n",
       "      <td>0.000000</td>\n",
       "      <td>0.000000</td>\n",
       "      <td>0.000000</td>\n",
       "      <td>1.000000</td>\n",
       "      <td>0.000000</td>\n",
       "      <td>0.000000</td>\n",
       "      <td>1.000000</td>\n",
       "      <td>1.000000</td>\n",
       "      <td>0.000000</td>\n",
       "    </tr>\n",
       "    <tr>\n",
       "      <th>75%</th>\n",
       "      <td>1.300000e+06</td>\n",
       "      <td>1.000000</td>\n",
       "      <td>3.000000</td>\n",
       "      <td>2.000000</td>\n",
       "      <td>114.000000</td>\n",
       "      <td>1.000000</td>\n",
       "      <td>1.000000</td>\n",
       "      <td>0.000000</td>\n",
       "      <td>1.000000</td>\n",
       "      <td>1.000000</td>\n",
       "      <td>1.000000</td>\n",
       "      <td>0.000000</td>\n",
       "      <td>0.000000</td>\n",
       "      <td>1.000000</td>\n",
       "      <td>1.000000</td>\n",
       "      <td>1.000000</td>\n",
       "    </tr>\n",
       "    <tr>\n",
       "      <th>max</th>\n",
       "      <td>2.400000e+07</td>\n",
       "      <td>8.000000</td>\n",
       "      <td>7.000000</td>\n",
       "      <td>134.000000</td>\n",
       "      <td>123456.000000</td>\n",
       "      <td>1.000000</td>\n",
       "      <td>1.000000</td>\n",
       "      <td>1.000000</td>\n",
       "      <td>1.000000</td>\n",
       "      <td>1.000000</td>\n",
       "      <td>1.000000</td>\n",
       "      <td>1.000000</td>\n",
       "      <td>1.000000</td>\n",
       "      <td>1.000000</td>\n",
       "      <td>1.000000</td>\n",
       "      <td>1.000000</td>\n",
       "    </tr>\n",
       "  </tbody>\n",
       "</table>\n",
       "</div>"
      ],
      "text/plain": [
       "              price        salon     nb_rooms     nb_baths   surface_area  \\\n",
       "count  1.732000e+03  1732.000000  1732.000000  1732.000000    1732.000000   \n",
       "mean   1.132807e+06     1.240185     2.320439     2.219977     175.237298   \n",
       "std    1.173942e+06     0.535339     0.628220     6.779740    2978.059535   \n",
       "min    3.500000e+01     0.000000     1.000000     0.000000       1.000000   \n",
       "25%    6.500000e+05     1.000000     2.000000     1.000000      72.000000   \n",
       "50%    8.900000e+05     1.000000     2.000000     2.000000      88.000000   \n",
       "75%    1.300000e+06     1.000000     3.000000     2.000000     114.000000   \n",
       "max    2.400000e+07     8.000000     7.000000   134.000000  123456.000000   \n",
       "\n",
       "         Ascenseur       Balcon    Chauffage  Climatisation    Concierge  \\\n",
       "count  1732.000000  1732.000000  1732.000000    1732.000000  1732.000000   \n",
       "mean      0.524827     0.569284     0.180139       0.303695     0.409931   \n",
       "std       0.499527     0.495319     0.384414       0.459985     0.491963   \n",
       "min       0.000000     0.000000     0.000000       0.000000     0.000000   \n",
       "25%       0.000000     0.000000     0.000000       0.000000     0.000000   \n",
       "50%       1.000000     1.000000     0.000000       0.000000     0.000000   \n",
       "75%       1.000000     1.000000     0.000000       1.000000     1.000000   \n",
       "max       1.000000     1.000000     1.000000       1.000000     1.000000   \n",
       "\n",
       "       Cuisine Équipée       Duplex       Meublé      Parking     Sécurité  \\\n",
       "count      1732.000000  1732.000000  1732.000000  1732.000000  1732.000000   \n",
       "mean          0.505196     0.025982     0.108545     0.530600     0.506351   \n",
       "std           0.500117     0.159126     0.311157     0.499207     0.500104   \n",
       "min           0.000000     0.000000     0.000000     0.000000     0.000000   \n",
       "25%           0.000000     0.000000     0.000000     0.000000     0.000000   \n",
       "50%           1.000000     0.000000     0.000000     1.000000     1.000000   \n",
       "75%           1.000000     0.000000     0.000000     1.000000     1.000000   \n",
       "max           1.000000     1.000000     1.000000     1.000000     1.000000   \n",
       "\n",
       "          Terrasse  \n",
       "count  1732.000000  \n",
       "mean      0.411085  \n",
       "std       0.492173  \n",
       "min       0.000000  \n",
       "25%       0.000000  \n",
       "50%       0.000000  \n",
       "75%       1.000000  \n",
       "max       1.000000  "
      ]
     },
     "execution_count": 2040,
     "metadata": {},
     "output_type": "execute_result"
    }
   ],
   "source": [
    "df.describe()"
   ]
  },
  {
   "cell_type": "markdown",
   "id": "c57090ff",
   "metadata": {},
   "source": [
    "**Détection et suppression des valeurs aberrantes:**"
   ]
  },
  {
   "cell_type": "code",
   "execution_count": 2041,
   "id": "46bc83c2",
   "metadata": {},
   "outputs": [],
   "source": [
    "# Utiliser des méthodes statistiques (boîtes à moustaches, z-score, IQR) pour détecter les outliers.\n",
    "# Supprimer les lignes contenant des valeurs aberrantes sur des colonnes clés (ex: price, surface_area, etc.).\n",
    "\n",
    "def find_remove_outliers(dataframe, column):\n",
    "  \n",
    "    Q1 = dataframe[column].quantile(0.25)\n",
    "    Q3 = dataframe[column].quantile(0.75)\n",
    "    IQR = Q3 - Q1\n",
    "    min_val = Q1 - 1.5 * IQR\n",
    "    max_val = Q3 + 1.5 * IQR\n",
    "\n",
    "    initial_rows = len(dataframe)\n",
    "    outliers_condition = (dataframe[column] < min_val) | (dataframe[column] > max_val)\n",
    "    print(f\"Nombre de valeurs aberrantes détectées dans '{column}': {outliers_condition.sum()}\")\n",
    "\n",
    "    df_cleaned = dataframe[~outliers_condition]\n",
    "    print(f\"{initial_rows - len(df_cleaned)} lignes ont été supprimées.\")\n",
    "\n",
    "    return df_cleaned\n"
   ]
  },
  {
   "cell_type": "code",
   "execution_count": 2042,
   "id": "f56dc612",
   "metadata": {},
   "outputs": [
    {
     "name": "stdout",
     "output_type": "stream",
     "text": [
      "Nombre de valeurs aberrantes détectées dans 'price': 138\n",
      "138 lignes ont été supprimées.\n"
     ]
    }
   ],
   "source": [
    "# Appliquer la fonction sur les colonnes clés\n",
    "df_cleaned = find_remove_outliers(df.copy(), 'price')\n"
   ]
  },
  {
   "cell_type": "code",
   "execution_count": 2043,
   "id": "61428f12",
   "metadata": {},
   "outputs": [
    {
     "name": "stdout",
     "output_type": "stream",
     "text": [
      "Nombre de valeurs aberrantes détectées dans 'nb_rooms': 3\n",
      "3 lignes ont été supprimées.\n"
     ]
    }
   ],
   "source": [
    "df_cleaned = find_remove_outliers(df_cleaned, 'nb_rooms')   "
   ]
  },
  {
   "cell_type": "code",
   "execution_count": 2044,
   "id": "d08f5912",
   "metadata": {},
   "outputs": [
    {
     "name": "stdout",
     "output_type": "stream",
     "text": [
      "Nombre de valeurs aberrantes détectées dans 'nb_baths': 10\n",
      "10 lignes ont été supprimées.\n"
     ]
    }
   ],
   "source": [
    "df_cleaned = find_remove_outliers(df_cleaned, \"nb_baths\")"
   ]
  },
  {
   "cell_type": "code",
   "execution_count": 2045,
   "id": "b2d4880f",
   "metadata": {},
   "outputs": [
    {
     "name": "stdout",
     "output_type": "stream",
     "text": [
      "Nombre de valeurs aberrantes détectées dans 'surface_area': 44\n",
      "44 lignes ont été supprimées.\n"
     ]
    }
   ],
   "source": [
    "df_cleaned = find_remove_outliers(df_cleaned, 'surface_area')"
   ]
  },
  {
   "cell_type": "code",
   "execution_count": 2046,
   "id": "7318e3ef",
   "metadata": {},
   "outputs": [
    {
     "name": "stdout",
     "output_type": "stream",
     "text": [
      "Nombre de valeurs aberrantes détectées dans 'salon': 313\n",
      "313 lignes ont été supprimées.\n"
     ]
    }
   ],
   "source": [
    "df_cleaned=find_remove_outliers(df_cleaned,\"salon\")"
   ]
  },
  {
   "cell_type": "code",
   "execution_count": 2047,
   "id": "5871f667",
   "metadata": {},
   "outputs": [
    {
     "data": {
      "text/plain": [
       "0       1.0\n",
       "1       1.0\n",
       "2       1.0\n",
       "3       1.0\n",
       "4       2.0\n",
       "       ... \n",
       "1766    1.0\n",
       "1767    1.0\n",
       "1768    1.0\n",
       "1769    2.0\n",
       "1770    2.0\n",
       "Name: salon, Length: 1732, dtype: float64"
      ]
     },
     "execution_count": 2047,
     "metadata": {},
     "output_type": "execute_result"
    }
   ],
   "source": [
    "df[\"salon\"]"
   ]
  },
  {
   "cell_type": "code",
   "execution_count": 2048,
   "id": "8e2a25ca",
   "metadata": {},
   "outputs": [
    {
     "name": "stdout",
     "output_type": "stream",
     "text": [
      "\n",
      "Dimensions du DataFrame avant suppression des outliers : (1732, 18)\n",
      "Dimensions du DataFrame après suppression des outliers : (1224, 18)\n"
     ]
    }
   ],
   "source": [
    "print(f\"\\nDimensions du DataFrame avant suppression des outliers : {df.shape}\")\n",
    "print(f\"Dimensions du DataFrame après suppression des outliers : {df_cleaned.shape}\")\n",
    "\n",
    "df = df_cleaned # Remplacer le df original par le df nettoyé"
   ]
  },
  {
   "cell_type": "markdown",
   "id": "820e164e",
   "metadata": {},
   "source": [
    "**Encodage des variables catégorielles:**\n"
   ]
  },
  {
   "cell_type": "code",
   "execution_count": 2049,
   "id": "8957ce7e",
   "metadata": {},
   "outputs": [],
   "source": [
    "#Appliquer un Label Encoding selon le modèle utilisé, en particulier sur city_name.\n",
    "from sklearn.preprocessing import LabelEncoder\n",
    "encoder = LabelEncoder()\n",
    "df[\"city_name\"]=encoder.fit_transform(df[\"city_name\"])"
   ]
  },
  {
   "cell_type": "code",
   "execution_count": 2050,
   "id": "37b20022",
   "metadata": {},
   "outputs": [
    {
     "data": {
      "text/plain": [
       "1       11\n",
       "2       13\n",
       "3       11\n",
       "6       29\n",
       "7       11\n",
       "        ..\n",
       "1764    53\n",
       "1765    33\n",
       "1766    59\n",
       "1767    53\n",
       "1768     0\n",
       "Name: city_name, Length: 1224, dtype: int64"
      ]
     },
     "execution_count": 2050,
     "metadata": {},
     "output_type": "execute_result"
    }
   ],
   "source": [
    "df[\"city_name\"]"
   ]
  },
  {
   "cell_type": "markdown",
   "id": "2b446b96",
   "metadata": {},
   "source": [
    "**Mise à l’échelle des variables:**"
   ]
  },
  {
   "cell_type": "code",
   "execution_count": 2051,
   "id": "439f760f",
   "metadata": {},
   "outputs": [
    {
     "name": "stdout",
     "output_type": "stream",
     "text": [
      "\n",
      "DataFrame après encodage et mise à l'échelle :\n",
      "          price  salon  nb_rooms  nb_baths  surface_area\n",
      "1     1195000.0    0.0  0.333333  0.666667      0.528169\n",
      "2     1350000.0    0.0  0.333333  0.666667      0.408451\n",
      "3      900000.0    0.0  0.000000  0.333333      0.232394\n",
      "6      760000.0    0.0  0.666667  1.000000      0.528169\n",
      "7      790000.0    0.0  0.666667  0.666667      0.352113\n",
      "...         ...    ...       ...       ...           ...\n",
      "1764   730000.0    0.0  0.333333  0.333333      0.352113\n",
      "1765   300000.0    0.0  0.666667  0.333333      0.260563\n",
      "1766     3500.0    0.0  0.333333  0.666667      0.436620\n",
      "1767   700000.0    0.0  0.333333  0.333333      0.330986\n",
      "1768   890000.0    0.0  0.333333  0.666667      0.274648\n",
      "\n",
      "[1224 rows x 5 columns]\n"
     ]
    }
   ],
   "source": [
    "# Appliquer une normalisation (MinMaxScaler) ou une standardisation (StandardScaler) sur les variables numériques pour harmoniser les échelles.\n",
    "from sklearn.preprocessing import MinMaxScaler\n",
    "numeric_features_for_scaling = col_num.drop('price') # Exclure la cible\n",
    "scaler = MinMaxScaler()\n",
    "df[numeric_features_for_scaling] = scaler.fit_transform(df[numeric_features_for_scaling])\n",
    "print(\"\\nDataFrame après encodage et mise à l'échelle :\")\n",
    "print(df[col_num])\n"
   ]
  },
  {
   "cell_type": "markdown",
   "id": "b6a5117c",
   "metadata": {},
   "source": [
    "**Sélection des variables explicatives:**"
   ]
  },
  {
   "cell_type": "code",
   "execution_count": 2052,
   "id": "b643dee4",
   "metadata": {},
   "outputs": [
    {
     "name": "stdout",
     "output_type": "stream",
     "text": [
      "\n",
      "Corrélation des variables avec le prix :\n",
      "price              1.000000\n",
      "surface_area       0.484834\n",
      "Ascenseur          0.315017\n",
      "nb_baths           0.296215\n",
      "nb_rooms           0.204030\n",
      "Climatisation      0.196431\n",
      "Parking            0.190257\n",
      "Concierge          0.174666\n",
      "Terrasse           0.172035\n",
      "Balcon             0.128423\n",
      "Chauffage          0.111400\n",
      "Sécurité           0.100078\n",
      "Cuisine Équipée    0.079088\n",
      "Meublé             0.038570\n",
      "city_name          0.027758\n",
      "Duplex             0.004705\n",
      "salon                   NaN\n",
      "Name: price, dtype: float64\n"
     ]
    }
   ],
   "source": [
    "#Choisir les variables numériques corrélées au prix (corr > 0.15).\n",
    "matrice_de_correlation = df.corr(numeric_only=True)\n",
    "price_correlation = matrice_de_correlation['price'].abs().sort_values(ascending=False)\n",
    "print(\"\\nCorrélation des variables avec le prix :\")\n",
    "print(price_correlation)"
   ]
  },
  {
   "cell_type": "code",
   "execution_count": 2053,
   "id": "a3f4b4e4",
   "metadata": {},
   "outputs": [
    {
     "name": "stdout",
     "output_type": "stream",
     "text": [
      "\n",
      "Variables sélectionnées pour le modèle : \n",
      "['surface_area', 'Ascenseur', 'nb_baths', 'nb_rooms', 'Climatisation', 'Parking', 'Concierge', 'Terrasse']\n"
     ]
    }
   ],
   "source": [
    "# Sélectionner les variables avec une corrélation > 0.15 (sauf le prix lui-même)\n",
    "features = price_correlation[price_correlation > 0.15].index.drop('price').tolist()\n",
    "print(f\"\\nVariables sélectionnées pour le modèle : \\n{features}\")\n"
   ]
  },
  {
   "cell_type": "markdown",
   "id": "f6f53d6e",
   "metadata": {},
   "source": [
    "**Séparation des données:**"
   ]
  },
  {
   "cell_type": "code",
   "execution_count": 2054,
   "id": "d6744fab",
   "metadata": {},
   "outputs": [
    {
     "name": "stdout",
     "output_type": "stream",
     "text": [
      "\n",
      "Taille de l'ensemble d'entraînement : (979, 8)\n",
      "Taille de l'ensemble de test : (245, 8)\n"
     ]
    }
   ],
   "source": [
    "# Définir la variable cible y = df[\"price\"].\n",
    "from sklearn.model_selection import train_test_split\n",
    "Y = df[\"price\"]\n",
    "# Définir les variables explicatives X à partir des colonnes sélectionnées.\n",
    "X=df[features]\n",
    "#  Diviser les données en ensemble d’entraînement et de test (80% / 20%) avec train_test_split.\n",
    "X_train, X_test, y_train, y_test = train_test_split(X, Y, test_size=0.2, random_state=42)\n",
    "\n",
    "print(f\"\\nTaille de l'ensemble d'entraînement : {X_train.shape}\")\n",
    "print(f\"Taille de l'ensemble de test : {X_test.shape}\")"
   ]
  },
  {
   "cell_type": "markdown",
   "id": "1290fcba",
   "metadata": {},
   "source": [
    "# Entraînement des modèles de régression"
   ]
  },
  {
   "cell_type": "markdown",
   "id": "2a29119c",
   "metadata": {},
   "source": [
    "**Entraîner plusieurs modèles :**"
   ]
  },
  {
   "cell_type": "code",
   "execution_count": 2055,
   "id": "93fa8fd9",
   "metadata": {},
   "outputs": [],
   "source": [
    "from sklearn.linear_model import LinearRegression\n",
    "from sklearn.ensemble import RandomForestRegressor, GradientBoostingRegressor\n",
    "from sklearn.svm import SVR\n",
    "from sklearn.metrics import mean_squared_error, r2_score\n",
    "from sklearn.model_selection import cross_val_score, KFold\n",
    "import joblib # Pour sauvegarder le modèle"
   ]
  },
  {
   "cell_type": "code",
   "execution_count": 2056,
   "id": "567d346b",
   "metadata": {},
   "outputs": [
    {
     "name": "stdout",
     "output_type": "stream",
     "text": [
      "✅ Linear Regression entraîné avec succès.\n",
      "✅ Random Forest entraîné avec succès.\n",
      "✅ SVR entraîné avec succès.\n",
      "✅ Gradient Boosting entraîné avec succès.\n"
     ]
    }
   ],
   "source": [
    "#Entraîner plusieurs modèles :\n",
    "models = {\n",
    "    \"Linear Regression\": LinearRegression(),\n",
    "    \"Random Forest\": RandomForestRegressor(random_state=42),\n",
    "    \"SVR\": SVR(),\n",
    "    \"Gradient Boosting\": GradientBoostingRegressor(random_state=42)\n",
    "}\n",
    "for name, model in models.items():\n",
    "    model.fit(X_train, y_train)\n",
    "    print(f\"✅ {name} entraîné avec succès.\")\n"
   ]
  },
  {
   "cell_type": "markdown",
   "id": "0f21461c",
   "metadata": {},
   "source": [
    "\n",
    "**Évaluer les modèles à l’aide de métriques adaptées à la régression :**\n",
    "\n",
    "MSE (Mean Squared Error) / RMSE (Root Mean Squared Error) / MAE (Mean Absolute Error) / R² Score\n"
   ]
  },
  {
   "cell_type": "code",
   "execution_count": 2057,
   "id": "fe295912",
   "metadata": {},
   "outputs": [
    {
     "name": "stdout",
     "output_type": "stream",
     "text": [
      "--- Linear Regression ---\n",
      "RMSE: 371727.00\n",
      "R² Score: 0.23\n",
      "\n",
      "--- Random Forest ---\n",
      "RMSE: 367433.90\n",
      "R² Score: 0.25\n",
      "\n",
      "--- SVR ---\n",
      "RMSE: 423730.78\n",
      "R² Score: -0.00\n",
      "\n",
      "--- Gradient Boosting ---\n",
      "RMSE: 349130.81\n",
      "R² Score: 0.32\n",
      "\n"
     ]
    }
   ],
   "source": [
    "results = {}\n",
    "for name, model in models.items():\n",
    "    model.fit(X_train, y_train)\n",
    "    y_pred = model.predict(X_test)\n",
    "    rmse = np.sqrt(mean_squared_error(y_test, y_pred))\n",
    "    r2 = r2_score(y_test, y_pred)\n",
    "    results[name] = {'RMSE': rmse, 'R2 Score': r2}\n",
    "    print(f\"--- {name} ---\")\n",
    "    print(f\"RMSE: {rmse:.2f}\")\n",
    "    print(f\"R² Score: {r2:.2f}\\n\")"
   ]
  },
  {
   "cell_type": "markdown",
   "id": "68a7052f",
   "metadata": {},
   "source": [
    "**Validation croisée:**\n",
    "\n",
    "Utiliser la validation croisée (cross-validation) pour évaluer la robustesse des modèles sur différentes portions du jeu de données.\n"
   ]
  },
  {
   "cell_type": "code",
   "execution_count": 2058,
   "id": "079a027b",
   "metadata": {},
   "outputs": [
    {
     "name": "stdout",
     "output_type": "stream",
     "text": [
      "Linear Regression — R² moyen CV : 0.286\n",
      "Random Forest — R² moyen CV : 0.174\n",
      "SVR — R² moyen CV : -0.015\n",
      "Gradient Boosting — R² moyen CV : 0.235\n"
     ]
    }
   ],
   "source": [
    "# Configuration de la validation croisée : K-Fold 5 plis avec mélange et seed fixe\n",
    "cv = KFold(n_splits=5, shuffle=True, random_state=42)\n",
    "\n",
    "# Dictionnaire pour stocker les scores moyens\n",
    "cv_results = {}\n",
    "\n",
    "# Boucle sur chaque modèle pour calculer le score R² moyen en validation croisée\n",
    "for name, model in models.items():\n",
    "    # Calcul des scores R² sur les 5 plis\n",
    "    scores = cross_val_score(model, X_train, y_train, cv=cv, scoring='r2')\n",
    "    \n",
    "    # Calcul de la moyenne des scores\n",
    "    mean_score = np.mean(scores)\n",
    "    \n",
    "    # Sauvegarde du score moyen\n",
    "    cv_results[name] = mean_score\n",
    "    \n",
    "    # Affichage clair du résultat\n",
    "    print(f\"{name} — R² moyen CV : {mean_score:.3f}\")\n",
    "\n"
   ]
  },
  {
   "cell_type": "markdown",
   "id": "878817f3",
   "metadata": {},
   "source": [
    "**Optimisation des hyperparamètres:**\n",
    "\n",
    "Utiliser GridSearchCV ou RandomizedSearchCV pour rechercher les meilleurs hyperparamètres pour chaque modèle.\n"
   ]
  },
  {
   "cell_type": "code",
   "execution_count": 2059,
   "id": "f94dd70e",
   "metadata": {},
   "outputs": [
    {
     "name": "stdout",
     "output_type": "stream",
     "text": [
      "Fitting 5 folds for each of 18 candidates, totalling 90 fits\n",
      "Meilleurs paramètres RF : {'max_depth': 10, 'min_samples_split': 5, 'n_estimators': 100}\n"
     ]
    }
   ],
   "source": [
    "from sklearn.model_selection import GridSearchCV, RandomizedSearchCV\n",
    "\n",
    "# 1. Définir les grilles d'hyperparamètres\n",
    "param_grids = {\n",
    "    \"Random Forest\": {\n",
    "        \"n_estimators\": [100, 200, 400],\n",
    "        \"max_depth\": [None, 10, 20],\n",
    "        \"min_samples_split\": [2, 5]\n",
    "    },\n",
    "    \"SVR\": {\n",
    "        \"C\": [0.1, 1, 10, 100],\n",
    "        \"gamma\": ['scale', 'auto'],\n",
    "        \"kernel\": ['rbf', 'linear']\n",
    "    }\n",
    "}\n",
    "\n",
    "# 2. Exemple pour Random Forest avec GridSearchCV\n",
    "rf = RandomForestRegressor(random_state=42)\n",
    "grid_search_rf = GridSearchCV(\n",
    "    estimator=rf,\n",
    "    param_grid=param_grids[\"Random Forest\"],\n",
    "    scoring='neg_mean_squared_error',   # Minimiser l'erreur quadratique moyenne\n",
    "    cv=5,\n",
    "    n_jobs=-1,\n",
    "    verbose=1\n",
    ")\n",
    "grid_search_rf.fit(X_train, y_train)\n",
    "print(\"Meilleurs paramètres RF :\", grid_search_rf.best_params_)\n",
    "\n",
    "# 3. Exemple pour SVR avec RandomizedSearchCV (plus rapide quand grille grande)\n",
    "# svr = SVR()\n",
    "# random_search_svr = RandomizedSearchCV(\n",
    "#     estimator=svr,\n",
    "#     param_distributions=param_grids[\"SVR\"],\n",
    "#     n_iter=10,                         # nombre d'itérations aléatoires\n",
    "#     scoring='neg_mean_squared_error',\n",
    "#     cv=5,\n",
    "#     n_jobs=-1,\n",
    "#     verbose=1,\n",
    "#     random_state=42\n",
    "# )\n",
    "# random_search_svr.fit(X_train, y_train)\n",
    "# print(\"Meilleurs paramètres SVR :\", random_search_svr.best_params_)\n"
   ]
  },
  {
   "cell_type": "markdown",
   "id": "bbcf6fac",
   "metadata": {},
   "source": [
    "**Sélection du meilleur modèle :**\n",
    "\n",
    "Comparer les performances des modèles et sélectionner celui avec les meilleurs scores (ex: R² élevé, RMSE faible).\n",
    "\n",
    "Sauvegarder le modèle entraîné (model.pkl)\n"
   ]
  },
  {
   "cell_type": "code",
   "execution_count": 2060,
   "id": "b942bf90",
   "metadata": {},
   "outputs": [
    {
     "name": "stdout",
     "output_type": "stream",
     "text": [
      "✅ Meilleur modèle : Gradient Boosting avec RMSE = 349130.81\n",
      "Modèle sauvegardé sous 'model.pkl'\n"
     ]
    }
   ],
   "source": [
    "# Dictionnaire pour stocker résultats de chaque modèle\n",
    "results = {}\n",
    "\n",
    "# Entraîner et évaluer chaque modèle\n",
    "for name, model in models.items():\n",
    "    model.fit(X_train, y_train)               # entraînement\n",
    "    y_pred = model.predict(X_test)            # prédiction\n",
    "    rmse = np.sqrt(mean_squared_error(y_test, y_pred))  # calcul RMSE\n",
    "    results[name] = {'model': model, 'RMSE': rmse}\n",
    "\n",
    "# Trouver le meilleur modèle (celui avec le RMSE le plus faible)\n",
    "best_model_name = min(results, key=lambda k: results[k]['RMSE'])\n",
    "best_model = results[best_model_name]['model']\n",
    "best_rmse = results[best_model_name]['RMSE']\n",
    "\n",
    "print(f\"✅ Meilleur modèle : {best_model_name} avec RMSE = {best_rmse:.2f}\")\n",
    "\n",
    "# Sauvegarder le meilleur modèle dans un fichier .pkl\n",
    "joblib.dump(best_model, '../models/model.pkl')\n",
    "print(\"Modèle sauvegardé sous 'model.pkl'\")\n"
   ]
  },
  {
   "cell_type": "code",
   "execution_count": 2061,
   "id": "0f652136",
   "metadata": {},
   "outputs": [
    {
     "data": {
      "image/png": "[encoded data removed]",
      "text/plain": [
       "<Figure size 640x480 with 1 Axes>"
      ]
     },
     "metadata": {},
     "output_type": "display_data"
    }
   ],
   "source": [
    "import matplotlib.pyplot as plt\n",
    "\n",
    "plt.scatter(y_test, y_pred, alpha=0.5)\n",
    "plt.plot([y_test.min(), y_test.max()], [y_test.min(), y_test.max()], 'r--')  # ligne y=x\n",
    "plt.xlabel(\"Valeurs réelles\")\n",
    "plt.ylabel(\"Prédictions\")\n",
    "plt.title(\"Prédictions vs Valeurs réelles\")\n",
    "plt.savefig(\"../eda_img/predictions_vs_reality.png\")\n",
    "plt.show()\n"
   ]
  }
 ],
 "metadata": {
  "kernelspec": {
   "display_name": "Python 3",
   "language": "python",
   "name": "python3"
  },
  "language_info": {
   "codemirror_mode": {
    "name": "ipython",
    "version": 3
   },
   "file_extension": ".py",
   "mimetype": "text/x-python",
   "name": "python",
   "nbconvert_exporter": "python",
   "pygments_lexer": "ipython3",
   "version": "3.13.3"
  }
 },
 "nbformat": 4,
 "nbformat_minor": 5
}
